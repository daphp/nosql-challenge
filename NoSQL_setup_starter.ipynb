{
 "cells": [
  {
   "cell_type": "markdown",
   "id": "9a57c4c6",
   "metadata": {},
   "source": [
    "# Eat Safe, Love"
   ]
  },
  {
   "cell_type": "markdown",
   "id": "064ef857",
   "metadata": {},
   "source": [
    "## Part 1: Database and Jupyter Notebook Set Up"
   ]
  },
  {
   "cell_type": "markdown",
   "id": "664e3c1f",
   "metadata": {},
   "source": [
    "Import the data provided in the `establishments.json` file from your Terminal. Name the database `uk_food` and the collection `establishments`.\n",
    "\n",
    "Within this markdown cell, copy the line of text you used to import the data from your Terminal. This way, future analysts will be able to repeat your process.\n",
    "\n",
    "Import the dataset with `mongoimport --db uk_food --collection establishments --file Resources/establishments.json --jsonArray`"
   ]
  },
  {
   "cell_type": "code",
   "execution_count": 1,
   "id": "3ecdd008",
   "metadata": {},
   "outputs": [],
   "source": [
    "# Import dependencies\n",
    "from pymongo import MongoClient\n",
    "from pprint import pprint"
   ]
  },
  {
   "cell_type": "code",
   "execution_count": 2,
   "id": "59390c4a",
   "metadata": {},
   "outputs": [],
   "source": [
    "# Create an instance of MongoClient\n",
    "mongo = MongoClient(port=27017)"
   ]
  },
  {
   "cell_type": "code",
   "execution_count": 3,
   "id": "7f9ececa",
   "metadata": {},
   "outputs": [
    {
     "name": "stdout",
     "output_type": "stream",
     "text": [
      "MongoClient(host=['localhost:27017'], document_class=dict, tz_aware=False, connect=True)\n"
     ]
    }
   ],
   "source": [
    "# confirm that our new database was created\n",
    "print(mongo)"
   ]
  },
  {
   "cell_type": "code",
   "execution_count": 4,
   "id": "71e373c1",
   "metadata": {},
   "outputs": [],
   "source": [
    "# assign the uk_food database to a variable name\n",
    "db = mongo['uk_food']"
   ]
  },
  {
   "cell_type": "code",
   "execution_count": 5,
   "id": "ef1b89ed",
   "metadata": {},
   "outputs": [
    {
     "name": "stdout",
     "output_type": "stream",
     "text": [
      "Collections in 'uk_food' database: ['establishments']\n"
     ]
    }
   ],
   "source": [
    "# review the collections in our new database\n",
    "collections = db.list_collection_names()\n",
    "print(\"Collections in 'uk_food' database:\", collections)"
   ]
  },
  {
   "cell_type": "code",
   "execution_count": 6,
   "id": "18ab463c",
   "metadata": {},
   "outputs": [
    {
     "name": "stdout",
     "output_type": "stream",
     "text": [
      "Collections in 'uk_food' database: ['establishments']\n"
     ]
    }
   ],
   "source": [
    "# review the collections in our new database\n",
    "collections = db.list_collection_names()\n",
    "print(\"Collections in 'uk_food' database:\", collections)"
   ]
  },
  {
   "cell_type": "code",
   "execution_count": 7,
   "id": "6a0d92df",
   "metadata": {},
   "outputs": [
    {
     "name": "stdout",
     "output_type": "stream",
     "text": [
      "{'AddressLine1': 'The Pines Garden',\n",
      " 'AddressLine2': 'Beach Road',\n",
      " 'AddressLine3': 'St Margarets Bay',\n",
      " 'AddressLine4': 'Kent',\n",
      " 'BusinessName': 'The Pines Calyx',\n",
      " 'BusinessType': 'Other catering premises',\n",
      " 'BusinessTypeID': 7841,\n",
      " 'ChangesByServerID': 0,\n",
      " 'Distance': 4587.362402580997,\n",
      " 'FHRSID': 254250,\n",
      " 'LocalAuthorityBusinessID': 'PI/000066174',\n",
      " 'LocalAuthorityCode': '182',\n",
      " 'LocalAuthorityEmailAddress': 'publicprotection@dover.gov.uk',\n",
      " 'LocalAuthorityName': 'Dover',\n",
      " 'LocalAuthorityWebSite': 'http://www.dover.gov.uk/',\n",
      " 'NewRatingPending': False,\n",
      " 'Phone': '',\n",
      " 'PostCode': 'CT15 6DZ',\n",
      " 'RatingDate': '2021-08-17T00:00:00',\n",
      " 'RatingKey': 'fhrs_5_en-gb',\n",
      " 'RatingValue': '5',\n",
      " 'RightToReply': '',\n",
      " 'SchemeType': 'FHRS',\n",
      " '_id': ObjectId('6707eeb021bc4028575cd544'),\n",
      " 'geocode': {'latitude': '51.148133', 'longitude': '1.383298'},\n",
      " 'links': [{'href': 'https://api.ratings.food.gov.uk/establishments/254250',\n",
      "            'rel': 'self'}],\n",
      " 'meta': {'dataSource': None,\n",
      "          'extractDate': '0001-01-01T00:00:00',\n",
      "          'itemCount': 0,\n",
      "          'pageNumber': 0,\n",
      "          'pageSize': 0,\n",
      "          'returncode': None,\n",
      "          'totalCount': 0,\n",
      "          'totalPages': 0},\n",
      " 'scores': {'ConfidenceInManagement': 0, 'Hygiene': 0, 'Structural': 0}}\n"
     ]
    }
   ],
   "source": [
    "# review a document in the establishments collection\n",
    "document = db.establishments.find_one()\n",
    "pprint(document)"
   ]
  },
  {
   "cell_type": "code",
   "execution_count": 8,
   "id": "11c9f11b",
   "metadata": {},
   "outputs": [],
   "source": [
    "# assign the collection to a variable\n",
    "establishments = db['establishments']"
   ]
  },
  {
   "cell_type": "markdown",
   "id": "d5671434",
   "metadata": {},
   "source": [
    "## Part 2: Update the Database"
   ]
  },
  {
   "cell_type": "markdown",
   "id": "314bd884",
   "metadata": {},
   "source": [
    "1. An exciting new halal restaurant just opened in Greenwich, but hasn't been rated yet. The magazine has asked you to include it in your analysis. Add the following restaurant \"Penang Flavours\" to the database."
   ]
  },
  {
   "cell_type": "code",
   "execution_count": 9,
   "id": "c2da7648",
   "metadata": {},
   "outputs": [],
   "source": [
    "# Create a dictionary for the new restaurant data\n",
    "new_restaurant = {\n",
    "    \"BusinessName\": \"Penang Flavours\",  \n",
    "    \"BusinessType\": \"Restaurant/Cafe/Canteen\",\n",
    "    \"BusinessTypeID\": \"\",\n",
    "    \"AddressLine1\": \"Penang Flavours\",\n",
    "    \"AddressLine2\": \"146A Plumstead Rd\",\n",
    "    \"AddressLine3\": \"London\",\n",
    "    \"AddressLine4\": \"\",\n",
    "    \"PostCode\": \"SE18 7DY\",\n",
    "    \"Phone\": \"\",\n",
    "    \"LocalAuthorityCode\": \"511\", \n",
    "    \"LocalAuthorityName\": \"Greenwich\", \n",
    "    \"LocalAuthorityWebSite\": \"http://www.royalgreenwich.gov.uk\",\n",
    "    \"LocalAuthorityEmailAddress\": \"health@royalgreenwich.gov.uk\",\n",
    "    \"scores\": {\n",
    "        \"Hygiene\": \"\", \n",
    "        \"Structural\": \"\", \n",
    "        \"ConfidenceInManagement\": \"\"\n",
    "    }, \n",
    "    \"SchemeType\": \"FHRS\",\n",
    "    \"geocode\": {\n",
    "        \"longitude\": \"0.08384000\",\n",
    "        \"latitude\": \"51.49014200\"\n",
    "    },\n",
    "    \"RightToReply\": '',\n",
    "    \"Distance\": 4623.9723280747176,\n",
    "    \"NewRatingPending\": True\n",
    "}"
   ]
  },
  {
   "cell_type": "code",
   "execution_count": 10,
   "id": "a6e5cece",
   "metadata": {},
   "outputs": [],
   "source": [
    "# Insert the new restaurant into the collection\n",
    "insert_restaurant = db.establishments.insert_one(new_restaurant)"
   ]
  },
  {
   "cell_type": "code",
   "execution_count": 11,
   "id": "63bb10f9",
   "metadata": {},
   "outputs": [
    {
     "name": "stdout",
     "output_type": "stream",
     "text": [
      "New restaurant inserted: Penang Flavours\n"
     ]
    }
   ],
   "source": [
    "# Check that the new restaurant was inserted\n",
    "# Confirming the insertion by printing the inserted ID and restaurant name\n",
    "print(\"New restaurant inserted:\", new_restaurant[\"BusinessName\"])"
   ]
  },
  {
   "cell_type": "markdown",
   "id": "0ef4395a",
   "metadata": {},
   "source": [
    "2. Find the BusinessTypeID for \"Restaurant/Cafe/Canteen\" and return only the `BusinessTypeID` and `BusinessType` fields."
   ]
  },
  {
   "cell_type": "code",
   "execution_count": 12,
   "id": "93c63829",
   "metadata": {},
   "outputs": [
    {
     "name": "stdout",
     "output_type": "stream",
     "text": [
      "{'BusinessType': 'Restaurant/Cafe/Canteen', 'BusinessTypeID': 1}\n"
     ]
    }
   ],
   "source": [
    "# Find the BusinessTypeID for \"Restaurant/Cafe/Canteen\" and return only the BusinessTypeID and BusinessType fields\n",
    "business_type_query = {\"BusinessType\": \"Restaurant/Cafe/Canteen\"}\n",
    "business_type_result = db.establishments.find_one(business_type_query, {\"_id\": 0, \"BusinessTypeID\": 1, \"BusinessType\": 1})\n",
    "\n",
    "# Printing the result\n",
    "print(business_type_result)"
   ]
  },
  {
   "cell_type": "markdown",
   "id": "4e570caf",
   "metadata": {},
   "source": [
    "3. Update the new restaurant with the `BusinessTypeID` you found."
   ]
  },
  {
   "cell_type": "code",
   "execution_count": 13,
   "id": "7f599f3d",
   "metadata": {},
   "outputs": [],
   "source": [
    "# Update the new restaurant with the correct BusinessTypeID\n",
    "\n",
    "# Defining the restaurant to update\n",
    "restaurant_to_update = \"Penang Flavours\"\n",
    "\n",
    "# Defining the fields to update\n",
    "update_field = {\n",
    "    \"BusinessTypeID\": 1\n",
    "}\n",
    "\n",
    "# Updating the defined fields\n",
    "update_result = db.establishments.update_one(\n",
    "    {\"BusinessName\": restaurant_to_update},  # BusinessName\n",
    "    {\"$set\": update_field}  # Updation\n",
    ")"
   ]
  },
  {
   "cell_type": "code",
   "execution_count": 14,
   "id": "a6ad16f7",
   "metadata": {},
   "outputs": [
    {
     "name": "stdout",
     "output_type": "stream",
     "text": [
      "Updated 'Penang Flavours' restaurant with BusinessTypeID. '{'BusinessTypeID': 1}'\n"
     ]
    }
   ],
   "source": [
    "# Confirm that the new restaurant was updated\n",
    "if update_result.modified_count > 0:\n",
    "    print(f\"Updated '{restaurant_to_update}' restaurant with BusinessTypeID. '{update_field}'\")\n",
    "else:\n",
    "    print(\"No changes made or restaurant not found.\")"
   ]
  },
  {
   "cell_type": "markdown",
   "id": "67281254",
   "metadata": {},
   "source": [
    "4. The magazine is not interested in any establishments in Dover, so check how many documents contain the Dover Local Authority. Then, remove any establishments within the Dover Local Authority from the database, and check the number of documents to ensure they were deleted."
   ]
  },
  {
   "cell_type": "code",
   "execution_count": 15,
   "id": "768474a6",
   "metadata": {},
   "outputs": [
    {
     "name": "stdout",
     "output_type": "stream",
     "text": [
      "There are 994 establishments in Dover\n"
     ]
    }
   ],
   "source": [
    "# Find how many documents have LocalAuthorityName as \"Dover\"\n",
    "establishments_in_dover = db.establishments.count_documents({\"LocalAuthorityName\": \"Dover\"})\n",
    "print(f\"There are {establishments_in_dover} establishments in Dover\")"
   ]
  },
  {
   "cell_type": "code",
   "execution_count": 16,
   "id": "a11d5f1b",
   "metadata": {},
   "outputs": [
    {
     "name": "stdout",
     "output_type": "stream",
     "text": [
      "Deleted 994 establishments with LocalAuthorityName 'Dover'.\n"
     ]
    }
   ],
   "source": [
    "# Delete all documents where LocalAuthorityName is \"Dover\"\n",
    "\n",
    "# Defining the establishments to delete\n",
    "establishments_to_delete = \"Dover\"\n",
    "\n",
    "# Delete all documents with the specified BusinessName\n",
    "delete_result = db.establishments.delete_many({\"LocalAuthorityName\": establishments_to_delete})\n",
    "\n",
    "# Check the result of the delete operation\n",
    "if delete_result.deleted_count > 0:\n",
    "    print(f\"Deleted {delete_result.deleted_count} establishments with LocalAuthorityName '{establishments_to_delete}'.\")\n",
    "else:\n",
    "    print(\"No restaurants found with the specified BusinessName to delete.\")"
   ]
  },
  {
   "cell_type": "code",
   "execution_count": 17,
   "id": "2a51aba0",
   "metadata": {},
   "outputs": [
    {
     "name": "stdout",
     "output_type": "stream",
     "text": [
      "No remaining documents include 'Dover'\n"
     ]
    }
   ],
   "source": [
    "# Check if any remaining documents include Dover\n",
    "remaining_dover_documents = db.establishments.count_documents({\"LocalAuthorityName\": \"Dover\"})\n",
    "\n",
    "if remaining_dover_documents > 0:\n",
    "    print(f\"There are still {remaining_dover_documents} establishments with LocalAuthorityName 'Dover'.\")\n",
    "else:\n",
    "    print(\"No remaining documents include 'Dover'\")"
   ]
  },
  {
   "cell_type": "code",
   "execution_count": 18,
   "id": "8c356f7b",
   "metadata": {},
   "outputs": [
    {
     "name": "stdout",
     "output_type": "stream",
     "text": [
      "Other establishments remain in the database.\n",
      "Example document:\n",
      "{'_id': ObjectId('6707eeb021bc4028575cd82b'), 'FHRSID': 1043695, 'ChangesByServerID': 0, 'LocalAuthorityBusinessID': 'PI/000073616', 'BusinessName': 'The Pavilion', 'BusinessType': 'Restaurant/Cafe/Canteen', 'BusinessTypeID': 1, 'AddressLine1': 'East Cliff Pavilion', 'AddressLine2': 'Wear Bay Road', 'AddressLine3': 'Folkestone', 'AddressLine4': 'Kent', 'PostCode': 'CT19 6BL', 'Phone': '', 'RatingValue': '5', 'RatingKey': 'fhrs_5_en-gb', 'RatingDate': '2018-04-04T00:00:00', 'LocalAuthorityCode': '188', 'LocalAuthorityName': 'Folkestone and Hythe', 'LocalAuthorityWebSite': 'http://www.folkestone-hythe.gov.uk', 'LocalAuthorityEmailAddress': 'foodteam@folkestone-hythe.gov.uk', 'scores': {'Hygiene': 5, 'Structural': 5, 'ConfidenceInManagement': 5}, 'SchemeType': 'FHRS', 'geocode': {'longitude': '1.195625', 'latitude': '51.083812'}, 'RightToReply': '', 'Distance': 4591.765489457773, 'NewRatingPending': False, 'meta': {'dataSource': None, 'extractDate': '0001-01-01T00:00:00', 'itemCount': 0, 'returncode': None, 'totalCount': 0, 'totalPages': 0, 'pageSize': 0, 'pageNumber': 0}, 'links': [{'rel': 'self', 'href': 'https://api.ratings.food.gov.uk/establishments/1043695'}]}\n"
     ]
    }
   ],
   "source": [
    "# Check that other documents remain with 'find_one'\n",
    "remaining_document = db.establishments.find_one()\n",
    "\n",
    "if remaining_document:\n",
    "    print(\"Other establishments remain in the database.\")\n",
    "    print(\"Example document:\")\n",
    "    print(remaining_document)\n",
    "else:\n",
    "    print(\"No documents remain in the database.\")"
   ]
  },
  {
   "attachments": {},
   "cell_type": "markdown",
   "id": "e9f1662d",
   "metadata": {},
   "source": [
    "5. Some of the number values are stored as strings, when they should be stored as numbers."
   ]
  },
  {
   "attachments": {},
   "cell_type": "markdown",
   "id": "c46df2df",
   "metadata": {},
   "source": [
    "Use `update_many` to convert `latitude` and `longitude` to decimal numbers."
   ]
  },
  {
   "cell_type": "code",
   "execution_count": 19,
   "id": "fd4112ce",
   "metadata": {},
   "outputs": [
    {
     "name": "stdout",
     "output_type": "stream",
     "text": [
      "Updated 38786 establishments to convert longitude and latitude to decimal numbers.\n"
     ]
    }
   ],
   "source": [
    "# Change the data type from String to Decimal for longitude and latitude\n",
    "\n",
    "# Updatinh the longitude and latitude fields from strings to decimal numbers\n",
    "update_coordinates = db.establishments.update_many(\n",
    "    {\n",
    "        \"geocode.longitude\": {\"$type\": \"string\"},\n",
    "        \"geocode.latitude\": {\"$type\": \"string\"}\n",
    "    },  # Finding documents where longitude and latitude are strings\n",
    "    [\n",
    "        {\n",
    "            \"$set\": {\n",
    "                \"geocode.longitude\": {\n",
    "                    \"$cond\": {\n",
    "                        \"if\": {\"$eq\": [\"$geocode.longitude\", \"\"]},  # Check if the value is an empty string\n",
    "                        \"then\": None,  # Set to null if empty\n",
    "                        \"else\": {\"$toDouble\": \"$geocode.longitude\"}  # Convert to double otherwise\n",
    "                    }\n",
    "                },\n",
    "                \"geocode.latitude\": {\n",
    "                    \"$cond\": {\n",
    "                        \"if\": {\"$eq\": [\"$geocode.latitude\", \"\"]},  # Check if the value is an empty string\n",
    "                        \"then\": None,  # Set to null if empty\n",
    "                        \"else\": {\"$toDouble\": \"$geocode.latitude\"}  # Convert to double otherwise\n",
    "                    }\n",
    "                }\n",
    "            }\n",
    "        }\n",
    "    ]\n",
    ")\n",
    "\n",
    "# Check the result of the update operation\n",
    "if update_coordinates.modified_count > 0:\n",
    "    print(f\"Updated {update_coordinates.modified_count} establishments to convert longitude and latitude to decimal numbers.\")\n",
    "else:\n",
    "    print(\"No changes made or no establishments with longitude and latitude as strings found.\")\n"
   ]
  },
  {
   "attachments": {},
   "cell_type": "markdown",
   "id": "142e319c",
   "metadata": {},
   "source": [
    "Use `update_many` to convert `RatingValue` to integer numbers."
   ]
  },
  {
   "cell_type": "code",
   "execution_count": 20,
   "id": "04430a5b",
   "metadata": {},
   "outputs": [
    {
     "data": {
      "text/plain": [
       "UpdateResult({'n': 4091, 'nModified': 4091, 'ok': 1.0, 'updatedExisting': True}, acknowledged=True)"
      ]
     },
     "execution_count": 20,
     "metadata": {},
     "output_type": "execute_result"
    }
   ],
   "source": [
    "# Set non 1-5 Rating Values to Null\n",
    "non_ratings = [\"AwaitingInspection\", \"Awaiting Inspection\", \"AwaitingPublication\", \"Pass\", \"Exempt\"]\n",
    "establishments.update_many({\"RatingValue\": {\"$in\": non_ratings}}, [ {'$set':{ \"RatingValue\" : None}} ])"
   ]
  },
  {
   "cell_type": "code",
   "execution_count": 21,
   "id": "92524ccc",
   "metadata": {},
   "outputs": [
    {
     "name": "stdout",
     "output_type": "stream",
     "text": [
      "Updated 34694 establishments to convert RatingValue to integers where applicable.\n"
     ]
    }
   ],
   "source": [
    "# Change the data type from String to Integer for RatingValue\n",
    "# Update the RatingValue field\n",
    "update_ratings = db.establishments.update_many(\n",
    "    {\n",
    "        \"RatingValue\": {\"$in\": [0, \"0\", \"1\", \"2\", \"3\", \"4\", \"5\"]}  # Select records with valid rating values\n",
    "    },\n",
    "    [\n",
    "        {\n",
    "            \"$set\": {\n",
    "                \"RatingValue\": {\n",
    "                    \"$cond\": {\n",
    "                        \"if\": {\"$eq\": [\"$RatingValue\", None]},  # If it's None, leave it as None\n",
    "                        \"then\": None,\n",
    "                        \"else\": {\"$toInt\": \"$RatingValue\"}  # Convert to integer\n",
    "                    }\n",
    "                }\n",
    "            }\n",
    "        }\n",
    "    ]\n",
    ")\n",
    "\n",
    "# Get the count of documents updated\n",
    "if update_ratings.modified_count > 0:\n",
    "    print(f\"Updated {update_ratings.modified_count} establishments to convert RatingValue to integers where applicable.\")\n",
    "else:\n",
    "    print(\"No changes made or no valid RatingValue found for conversion.\")"
   ]
  },
  {
   "cell_type": "code",
   "execution_count": 22,
   "id": "0deacaf9",
   "metadata": {},
   "outputs": [
    {
     "name": "stdout",
     "output_type": "stream",
     "text": [
      "Total documents checked: 38786\n",
      "Documents with valid coordinates (longitude & latitude as numbers): 38786\n",
      "Documents with valid RatingValue (as integer): 34694\n",
      "Documents with invalid coordinates (None or blank): 0\n",
      "Documents with invalid RatingValue (None or blank): 4092\n"
     ]
    }
   ],
   "source": [
    "# Check if longitude, latitude, and RatingValue are numbers (decimals or integers)\n",
    "coordinates_and_rating_check = db.establishments.aggregate([\n",
    "    {\n",
    "        \"$project\": {\n",
    "            \"longitude_is_number\": {\n",
    "                \"$in\": [{\"$type\": \"$geocode.longitude\"}, [\"double\", \"int\"]]\n",
    "            },\n",
    "            \"latitude_is_number\": {\n",
    "                \"$in\": [{\"$type\": \"$geocode.latitude\"}, [\"double\", \"int\"]]\n",
    "            },\n",
    "            \"RatingValue_is_number\": {\n",
    "                \"$in\": [{\"$type\": \"$RatingValue\"}, [\"int\"]]\n",
    "            }\n",
    "        }\n",
    "    },\n",
    "    {\n",
    "        \"$group\": {\n",
    "            \"_id\": None,\n",
    "            \"valid_coordinates_count\": {\n",
    "                \"$sum\": {\n",
    "                    \"$cond\": [\n",
    "                        { \"$and\": [\"$longitude_is_number\", \"$latitude_is_number\"] },\n",
    "                        1,\n",
    "                        0\n",
    "                    ]\n",
    "                }\n",
    "            },\n",
    "            \"valid_rating_count\": {\n",
    "                \"$sum\": {\n",
    "                    \"$cond\": [\n",
    "                        \"$RatingValue_is_number\",\n",
    "                        1,\n",
    "                        0\n",
    "                    ]\n",
    "                }\n",
    "            },\n",
    "            \"total_documents\": { \"$sum\": 1 }\n",
    "        }\n",
    "    }\n",
    "])\n",
    "\n",
    "# Output the results\n",
    "for result in coordinates_and_rating_check:\n",
    "    valid_coordinates_count = result['valid_coordinates_count']\n",
    "    valid_rating_count = result['valid_rating_count']\n",
    "    total_documents = result['total_documents']\n",
    "    \n",
    "    # Calculate the difference for invalid coordinates and RatingValue\n",
    "    invalid_coordinates_count = total_documents - valid_coordinates_count\n",
    "    invalid_rating_count = total_documents - valid_rating_count\n",
    "    \n",
    "    print(f\"Total documents checked: {total_documents}\")\n",
    "    print(f\"Documents with valid coordinates (longitude & latitude as numbers): {valid_coordinates_count}\")\n",
    "    print(f\"Documents with valid RatingValue (as integer): {valid_rating_count}\")\n",
    "    \n",
    "    # Print the difference attributed to None or blank values\n",
    "    print(f\"Documents with invalid coordinates (None or blank): {invalid_coordinates_count}\")\n",
    "    print(f\"Documents with invalid RatingValue (None or blank): {invalid_rating_count}\")\n"
   ]
  }
 ],
 "metadata": {
  "kernelspec": {
   "display_name": "Python 3 (ipykernel)",
   "language": "python",
   "name": "python3"
  },
  "language_info": {
   "codemirror_mode": {
    "name": "ipython",
    "version": 3
   },
   "file_extension": ".py",
   "mimetype": "text/x-python",
   "name": "python",
   "nbconvert_exporter": "python",
   "pygments_lexer": "ipython3",
   "version": "3.12.4"
  }
 },
 "nbformat": 4,
 "nbformat_minor": 5
}
